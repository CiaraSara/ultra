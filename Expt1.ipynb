{
 "cells": [
  {
   "cell_type": "code",
   "execution_count": 10,
   "metadata": {},
   "outputs": [
    {
     "name": "stdout",
     "output_type": "stream",
     "text": [
      "   Sunny  Warm Normal  Strong Warm.1    Same  Yes\n",
      "0  Sunny  Warm   High  Strong   Warm    Same  Yes\n",
      "1  Rainy  Cold   High  Strong   Warm  Change   No\n",
      "2  Sunny  Warm   High  Strong   Cool  Change  Yes\n",
      "\n",
      " ['Sunny' 'Warm' 'High' 'Strong' '?' '?']\n"
     ]
    }
   ],
   "source": [
    "import numpy as np \n",
    "import pandas as pd \n",
    "data=pd.read_csv('1.csv'); \n",
    "print(data)\n",
    "concepts = np.array(data.iloc[:,0:-1]) \n",
    "target=np.array(data.iloc[:,-1]) \n",
    "for i,val in enumerate(target):     \n",
    "    if target[i]==\"Yes\":         \n",
    "        specific_h=concepts[i]         \n",
    "        break; \n",
    "for i,s in enumerate(concepts):     \n",
    "    if target[i]==\"Yes\":         \n",
    "        for x in range(len(specific_h)):             \n",
    "            if specific_h[x]==s[x]:                 \n",
    "                pass             \n",
    "            else:                 \n",
    "                specific_h[x]=\"?\" \n",
    "print(\"\\n\",specific_h)   "
   ]
  },
  {
   "cell_type": "code",
   "execution_count": null,
   "metadata": {},
   "outputs": [],
   "source": []
  },
  {
   "cell_type": "code",
   "execution_count": null,
   "metadata": {},
   "outputs": [],
   "source": []
  },
  {
   "cell_type": "code",
   "execution_count": null,
   "metadata": {},
   "outputs": [],
   "source": []
  }
 ],
 "metadata": {
  "kernelspec": {
   "display_name": "Python 3",
   "language": "python",
   "name": "python3"
  },
  "language_info": {
   "codemirror_mode": {
    "name": "ipython",
    "version": 3
   },
   "file_extension": ".py",
   "mimetype": "text/x-python",
   "name": "python",
   "nbconvert_exporter": "python",
   "pygments_lexer": "ipython3",
   "version": "3.6.5"
  }
 },
 "nbformat": 4,
 "nbformat_minor": 2
}
