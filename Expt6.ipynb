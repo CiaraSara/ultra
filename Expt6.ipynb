{
 "cells": [
  {
   "cell_type": "code",
   "execution_count": 9,
   "metadata": {},
   "outputs": [
    {
     "name": "stdout",
     "output_type": "stream",
     "text": [
      "accuracy metrics\n",
      "accurecy of classifier is 0.8\n",
      "Confusion matrix\n",
      "[[2 1]\n",
      " [0 2]]\n",
      "Recall and Precison \n",
      "1.0\n",
      "0.6666666666666666\n"
     ]
    }
   ],
   "source": [
    "import pandas as pd\n",
    "from sklearn.model_selection import train_test_split\n",
    "from sklearn.feature_extraction.text import CountVectorizer\n",
    "from sklearn.naive_bayes import MultinomialNB\n",
    "from sklearn import metrics \n",
    "msg=pd.read_csv('document.csv',names=['message','label']) \n",
    "msg['labelnum']=msg.label.map({'pos':1,'neg':0}) \n",
    "x=msg.message \n",
    "y=msg.labelnum \n",
    "xtrain,xtest,ytrain,ytest=train_test_split(x,y)\n",
    "count_vect=CountVectorizer() \n",
    "xtrain_dtm=count_vect.fit_transform(xtrain) \n",
    "xtest_dtm=count_vect.transform(xtest) \n",
    "clf = MultinomialNB().fit(xtrain_dtm,ytrain) \n",
    "predicted = clf.predict(xtest_dtm)\n",
    "print('accuracy metrics') \n",
    "print('accurecy of classifier is',metrics.accuracy_score(ytest,predicted)) \n",
    "print('Confusion matrix') \n",
    "print(metrics.confusion_matrix(ytest,predicted)) \n",
    "print('Recall and Precison ') \n",
    "print(metrics.recall_score(ytest,predicted)) \n",
    "print(metrics.precision_score(ytest,predicted)) \n",
    " \n"
   ]
  },
  {
   "cell_type": "code",
   "execution_count": null,
   "metadata": {},
   "outputs": [],
   "source": []
  },
  {
   "cell_type": "code",
   "execution_count": null,
   "metadata": {},
   "outputs": [],
   "source": []
  }
 ],
 "metadata": {
  "kernelspec": {
   "display_name": "Python 3",
   "language": "python",
   "name": "python3"
  },
  "language_info": {
   "codemirror_mode": {
    "name": "ipython",
    "version": 3
   },
   "file_extension": ".py",
   "mimetype": "text/x-python",
   "name": "python",
   "nbconvert_exporter": "python",
   "pygments_lexer": "ipython3",
   "version": "3.6.5"
  }
 },
 "nbformat": 4,
 "nbformat_minor": 2
}
